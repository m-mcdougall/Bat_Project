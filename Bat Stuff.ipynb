{
 "cells": [
  {
   "cell_type": "markdown",
   "metadata": {},
   "source": [
    "Data set downloaded off the https://my.usgs.gov/bpd/search/search/search website.\n",
    "Data needed to be downloaded piecemeal to avoid truncation at 10000 samples. After some refinement, 1 year increments was selected as the download size.\n",
    "Data downloaded is in captures only, as these are the most likely to be accurate species differentiations, and should be reflective of actual population values."
   ]
  },
  {
   "cell_type": "code",
   "execution_count": null,
   "metadata": {},
   "outputs": [],
   "source": [
    "#Original Test code, non-iterative for prototying purposes.\n",
    "import pandas as pd\n",
    "\n",
    "def get_data(start_year,end_year):\n",
    "    string=str(\"https://my.usgs.gov/bpd/search/search/search?format=csv&extension=csv&country=240&gadmLevel0=240&suborder=All&toyear_year=\"+ end_year +\"&fromyear=date.struct&countryFips=240&SYNCHRONIZER_URI=%2Fbpd%2Fsearch%2Fsearch%2Fsearch&dataProjects=All&search=Perform+Search&fromyear_year=\" + start_year + \"&what=captures&genus=All&species=All&state=All&speciesOnly=true&family=All&toyear=date.struct&SYNCHRONIZER_TOKEN=4145915f-031c-4173-9256-0c8f4c92341f\")\n",
    "    x=pd.read_csv(string)\n",
    "    return x\n",
    "\n",
    "test= get_data(\"1935\", \"1933\")\n",
    "\n",
    "\n"
   ]
  },
  {
   "cell_type": "code",
   "execution_count": null,
   "metadata": {},
   "outputs": [],
   "source": [
    "import pandas as pd\n",
    "\n",
    "def get_data(start_year,end_year):\n",
    "    \"\"\"\n",
    "    End year is inclusive.\n",
    "    \"\"\"\n",
    "    full_data=[]\n",
    "    from_year=start_year\n",
    "    to_year=from_year+1\n",
    "    while from_year <= end_year:\n",
    "        str_from=str(from_year)\n",
    "        str_to=str(to_year)\n",
    "        string=\"https://my.usgs.gov/bpd/search/search/search?format=csv&extension=csv&country=240&gadmLevel0=240&suborder=All&toyear_year=\"+ str_to +\"&fromyear=date.struct&countryFips=240&SYNCHRONIZER_URI=%2Fbpd%2Fsearch%2Fsearch%2Fsearch&dataProjects=All&search=Perform+Search&fromyear_year=\" + str_from + \"&what=captures&genus=All&species=All&state=All&speciesOnly=true&family=All&toyear=date.struct&SYNCHRONIZER_TOKEN=4145915f-031c-4173-9256-0c8f4c92341f\"\n",
    "        x=pd.read_csv(string)\n",
    "        full_data.append(x)\n",
    "        print(\"Got a year!\")\n",
    "        from_year += 1\n",
    "        to_year += 1\n",
    "\n",
    "    return full_data\n",
    "        \n",
    "test= get_data(1918, 2018)\n",
    "print(test)"
   ]
  },
  {
   "cell_type": "code",
   "execution_count": null,
   "metadata": {},
   "outputs": [],
   "source": [
    "df_n = pd.DataFrame( columns = test[0].columns)\n",
    "#print(df_n)\n",
    "for year in test:\n",
    "    df_n=pd.concat([df_n,year], axis=0)\n",
    "    \n",
    "print (df_n)"
   ]
  },
  {
   "cell_type": "code",
   "execution_count": null,
   "metadata": {},
   "outputs": [],
   "source": [
    "df_n.to_csv(\"Bat_Data_1918_to_2018.csv\")"
   ]
  },
  {
   "cell_type": "code",
   "execution_count": null,
   "metadata": {},
   "outputs": [],
   "source": [
    "print(type(df_n))\n",
    "print(df_n.columns)\n",
    "print(test[0].columns)"
   ]
  },
  {
   "cell_type": "code",
   "execution_count": null,
   "metadata": {},
   "outputs": [],
   "source": [
    "from IPython.display import display\n",
    "from IPython.display import Image\n",
    "print(df_n[\"Id\"])"
   ]
  },
  {
   "cell_type": "code",
   "execution_count": null,
   "metadata": {},
   "outputs": [],
   "source": [
    "for value in listy:\n",
    "    if value == 'bye':\n",
    "        print(tupley[listy.index(value)])"
   ]
  },
  {
   "cell_type": "code",
   "execution_count": null,
   "metadata": {},
   "outputs": [],
   "source": [
    "df = test[4]\n",
    "for index, series_entry in df.iterrows():\n",
    "    print(series_entry['Date'])\n",
    "    "
   ]
  },
  {
   "cell_type": "code",
   "execution_count": null,
   "metadata": {},
   "outputs": [],
   "source": [
    " df[\"Date\"]"
   ]
  },
  {
   "cell_type": "code",
   "execution_count": null,
   "metadata": {},
   "outputs": [],
   "source": [
    "import pandas as pd\n",
    "bat_db=pd.read_csv(r\"C:\\Users\\Mariko\\Documents\\GitHub\\Bat_Project\\Bat_Data_1918_to_2018.csv\")\n",
    "bat_db.head\n",
    "#bat_unique= bat_db.groupby('County')[\"Id\"].nunique()\n",
    "#print(bat_unique)\n",
    "\n",
    "#Useful metrics:Date, State, County, Species (13 unknown),Data Project\n",
    "#So-So metrics:Site(often descriptors such as \"near creek in Earlham Cemetary\"),Sex (22614 unknown), Age (234410 unknown)\n",
    "#Not useful metrics: Reproduction (253964 unknown), Forearm(23 known),Weight(85 known)\n",
    "\n",
    "\n",
    "def bats_per_state (state, unknown=\"y\"):\n",
    "    \"\"\"\n",
    "    Imput a state, and this function will generate a list of each bat species and the number of \n",
    "    bats captured for each species. If you want to exclude unknown species, set unknown=n.\n",
    "    Returns a dictionary.\n",
    "    \"\"\"\n",
    "    bat_state= bat_db.loc[(bat_db[\"State\"]==state), \"Species\"]\n",
    "    b_spec_count={}\n",
    "    for i in bat_state:\n",
    "        if i not in b_spec_count:\n",
    "            b_spec_count[i]=1\n",
    "        else:\n",
    "            b_spec_count[i]+=1\n",
    "    if unknown==\"n\":\n",
    "        del(b_spec_count[\"Unknown species\"])\n",
    "    if  bool(b_spec_count)==False:\n",
    "        return \"No data available for that state.\"\n",
    "    else:\n",
    "        return(b_spec_count)  \n",
    "\n",
    "x=bats_per_state(\"Ohio\")\n",
    "print(x)\n",
    "\n",
    "#Plot_bats\n",
    "\n",
    "\n",
    "spp=list(x.keys())\n",
    "pop=list(x.values())\n",
    "print(spp)\n",
    "print(pop)\n",
    "\n",
    "\n",
    "# Data to plot\n",
    "import matplotlib.pyplot as plt; plt.rcdefaults()\n",
    "import numpy as np\n",
    "\n",
    " \n",
    "\n",
    "y_pos = np.arange(len(pop))\n",
    "\n",
    " \n",
    "plt.bar(y_pos, pop,  alpha=0.5)\n",
    "plt.xticks(y_pos, spp)\n",
    "plt.ylabel(\"Captures\")\n",
    "plt.title('Ohio')\n",
    " \n",
    "plt.show()\n",
    "\n",
    "\n",
    "\n",
    "\n",
    "\n",
    "\n",
    "def bats_annual_pop (species, year=\"all\", state=\"all\", unknown=\"y\"):\n",
    "    \"\"\"\n",
    "    Imput a species, a state and a year of inquiry, and this function will generate \n",
    "    the number of bats of that species captured in that year. Leave year or state blank to search all\n",
    "    states and/or years. If you want to exclude unknown species, set unknown=n.\n",
    "    Returns a dictionary.\n",
    "    \"\"\"\n"
   ]
  },
  {
   "cell_type": "code",
   "execution_count": 11,
   "metadata": {},
   "outputs": [],
   "source": []
  },
  {
   "cell_type": "code",
   "execution_count": null,
   "metadata": {},
   "outputs": [],
   "source": [
    "b_list=[]\n",
    "for "
   ]
  }
 ],
 "metadata": {
  "kernelspec": {
   "display_name": "Python 3",
   "language": "python",
   "name": "python3"
  },
  "language_info": {
   "codemirror_mode": {
    "name": "ipython",
    "version": 3
   },
   "file_extension": ".py",
   "mimetype": "text/x-python",
   "name": "python",
   "nbconvert_exporter": "python",
   "pygments_lexer": "ipython3",
   "version": "3.6.4"
  }
 },
 "nbformat": 4,
 "nbformat_minor": 2
}
